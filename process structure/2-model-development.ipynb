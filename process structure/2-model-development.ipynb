{
 "cells": [
  {
   "cell_type": "code",
   "execution_count": null,
   "metadata": {
    "vscode": {
     "languageId": "plaintext"
    }
   },
   "outputs": [],
   "source": [
    "# Setup dan Import\n",
    "!pip install -q google-cloud-aiplatform\n",
    "!pip install -q google-cloud-storage\n",
    "!pip install -q scikit-learn\n",
    "!pip install -q pandas numpy matplotlib seaborn joblib\n",
    "\n",
    "import os\n",
    "import pandas as pd\n",
    "import numpy as np\n",
    "from google.cloud import storage\n",
    "from sklearn.ensemble import RandomForestRegressor\n",
    "from sklearn.model_selection import train_test_split, GridSearchCV\n",
    "from sklearn.metrics import mean_squared_error, r2_score\n",
    "import matplotlib.pyplot as plt\n",
    "import seaborn as sns\n",
    "import joblib"
   ]
  },
  {
   "cell_type": "code",
   "execution_count": null,
   "metadata": {
    "vscode": {
     "languageId": "plaintext"
    }
   },
   "outputs": [],
   "source": [
    "# Setup project\n",
    "PROJECT_ID = \"your-project-id\"\n",
    "BUCKET = \"your-bucket\"\n",
    "REGION = \"your-region\""
   ]
  },
  {
   "cell_type": "code",
   "execution_count": null,
   "metadata": {
    "vscode": {
     "languageId": "plaintext"
    }
   },
   "outputs": [],
   "source": [
    "# Load processed data\n",
    "def load_data_from_gcs(bucket_name, blob_name):\n",
    "    storage_client = storage.Client()\n",
    "    bucket = storage_client.bucket(bucket_name)\n",
    "    blob = bucket.blob(blob_name)\n",
    "    data_str = blob.download_as_string()\n",
    "    return pd.read_csv(pd.StringIO(data_str.decode('utf-8')))\n",
    "\n",
    "processed_data = load_data_from_gcs(BUCKET, 'processed/training_data.csv')"
   ]
  },
  {
   "cell_type": "code",
   "execution_count": null,
   "metadata": {
    "vscode": {
     "languageId": "plaintext"
    }
   },
   "outputs": [],
   "source": [
    "# Model Class\n",
    "class AirQualityCalibrator:\n",
    "    def __init__(self):\n",
    "        self.parameters = ['pm25', 'pm10', 'o3', 'co', 'no2']\n",
    "        self.models = {}\n",
    "        \n",
    "    def prepare_features(self, data):\n",
    "        features = data[[\n",
    "            'pm25_sensor', 'pm10_sensor', 'o3_sensor', \n",
    "            'co_sensor', 'no2_sensor', 'temperature', 'humidity'\n",
    "        ]]\n",
    "        return features\n",
    "    \n",
    "    def train(self, X_train, y_train, param):\n",
    "        print(f\"Training model for {param}...\")\n",
    "        \n",
    "        # Define parameter grid for GridSearchCV\n",
    "        param_grid = {\n",
    "            'n_estimators': [50, 100, 200],\n",
    "            'max_depth': [10, 20, 30],\n",
    "            'min_samples_split': [2, 5, 10]\n",
    "        }\n",
    "        \n",
    "        # Initialize base model\n",
    "        base_model = RandomForestRegressor(random_state=42)\n",
    "        \n",
    "        # Perform GridSearchCV\n",
    "        grid_search = GridSearchCV(\n",
    "            base_model, param_grid, cv=5, \n",
    "            scoring='neg_root_mean_squared_error',\n",
    "            n_jobs=-1\n",
    "        )\n",
    "        \n",
    "        grid_search.fit(X_train, y_train)\n",
    "        \n",
    "        print(f\"Best parameters for {param}: {grid_search.best_params_}\")\n",
    "        self.models[param] = grid_search.best_estimator_\n",
    "        \n",
    "    def evaluate(self, X_test, y_test, param):\n",
    "        predictions = self.models[param].predict(X_test)\n",
    "        rmse = np.sqrt(mean_squared_error(y_test, predictions))\n",
    "        r2 = r2_score(y_test, predictions)\n",
    "        \n",
    "        return {\n",
    "            'rmse': rmse,\n",
    "            'r2': r2,\n",
    "            'predictions': predictions\n",
    "        }"
   ]
  },
  {
   "cell_type": "code",
   "execution_count": null,
   "metadata": {
    "vscode": {
     "languageId": "plaintext"
    }
   },
   "outputs": [],
   "source": [
    "# Data Preparation\n",
    "def prepare_training_data(df):\n",
    "    features = df[[\n",
    "        'pm25_sensor', 'pm10_sensor', 'o3_sensor', \n",
    "        'co_sensor', 'no2_sensor', 'temperature', 'humidity'\n",
    "    ]]\n",
    "    \n",
    "    targets = df[[\n",
    "        'pm25_reference', 'pm10_reference', 'o3_reference',\n",
    "        'co_reference', 'no2_reference'\n",
    "    ]]\n",
    "    \n",
    "    return train_test_split(features, targets, test_size=0.2, random_state=42)\n",
    "\n",
    "X_train, X_test, y_train, y_test = prepare_training_data(processed_data)"
   ]
  },
  {
   "cell_type": "code",
   "execution_count": null,
   "metadata": {
    "vscode": {
     "languageId": "plaintext"
    }
   },
   "outputs": [],
   "source": [
    "# Train Models\n",
    "calibrator = AirQualityCalibrator()\n",
    "results = {}\n",
    "\n",
    "for param in calibrator.parameters:\n",
    "    # Train\n",
    "    calibrator.train(\n",
    "        X_train, \n",
    "        y_train[f'{param}_reference'],\n",
    "        param\n",
    "    )\n",
    "    \n",
    "    # Evaluate\n",
    "    results[param] = calibrator.evaluate(\n",
    "        X_test,\n",
    "        y_test[f'{param}_reference'],\n",
    "        param\n",
    "    )"
   ]
  },
  {
   "cell_type": "code",
   "execution_count": null,
   "metadata": {
    "vscode": {
     "languageId": "plaintext"
    }
   },
   "outputs": [],
   "source": [
    "# Visualize Results\n",
    "def plot_results(results, parameters):\n",
    "    fig, axes = plt.subplots(2, 3, figsize=(15, 10))\n",
    "    axes = axes.ravel()\n",
    "    \n",
    "    for idx, param in enumerate(parameters):\n",
    "        y_true = y_test[f'{param}_reference']\n",
    "        y_pred = results[param]['predictions']\n",
    "        \n",
    "        sns.scatterplot(x=y_true, y=y_pred, ax=axes[idx])\n",
    "        \n",
    "        # Add perfect prediction line\n",
    "        min_val = min(y_true.min(), y_pred.min())\n",
    "        max_val = max(y_true.max(), y_pred.max())\n",
    "        axes[idx].plot([min_val, max_val], [min_val, max_val], 'r--')\n",
    "        \n",
    "        axes[idx].set_title(f'{param} Calibration\\nRMSE: {results[param][\"rmse\"]:.2f}\\nR2: {results[param][\"r2\"]:.2f}')\n",
    "        axes[idx].set_xlabel('True Values')\n",
    "        axes[idx].set_ylabel('Predicted Values')\n",
    "    \n",
    "    plt.tight_layout()\n",
    "    plt.show()\n",
    "\n",
    "plot_results(results, calibrator.parameters)"
   ]
  },
  {
   "cell_type": "code",
   "execution_count": null,
   "metadata": {
    "vscode": {
     "languageId": "plaintext"
    }
   },
   "outputs": [],
   "source": [
    "# Save Models\n",
    "def save_models(calibrator, bucket_name):\n",
    "    storage_client = storage.Client()\n",
    "    bucket = storage_client.bucket(bucket_name)\n",
    "    \n",
    "    for param, model in calibrator.models.items():\n",
    "        # Save locally first\n",
    "        local_path = f'/tmp/{param}_model.joblib'\n",
    "        joblib.dump(model, local_path)\n",
    "        \n",
    "        # Upload to GCS\n",
    "        blob = bucket.blob(f'models/{param}_model.joblib')\n",
    "        blob.upload_from_filename(local_path)\n",
    "        \n",
    "        print(f\"Saved model for {param}\")\n",
    "\n",
    "save_models(calibrator, BUCKET)"
   ]
  }
 ],
 "metadata": {
  "language_info": {
   "name": "python"
  }
 },
 "nbformat": 4,
 "nbformat_minor": 2
}
