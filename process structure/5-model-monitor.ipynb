{
 "cells": [
  {
   "cell_type": "code",
   "execution_count": null,
   "metadata": {
    "vscode": {
     "languageId": "plaintext"
    }
   },
   "outputs": [],
   "source": [
    "# Setup dan Import\n",
    "!pip install -q google-cloud-aiplatform\n",
    "!pip install -q google-cloud-monitoring\n",
    "!pip install -q google-cloud-bigquery\n",
    "!pip install -q pandas numpy plotly\n",
    "\n",
    "import os\n",
    "from google.cloud import monitoring_v3\n",
    "from google.cloud import bigquery\n",
    "from google.cloud import aiplatform\n",
    "import pandas as pd\n",
    "import numpy as np\n",
    "import plotly.graph_objects as go\n",
    "import plotly.express as px\n",
    "from datetime import datetime, timedelta"
   ]
  },
  {
   "cell_type": "code",
   "execution_count": null,
   "metadata": {
    "vscode": {
     "languageId": "plaintext"
    }
   },
   "outputs": [],
   "source": [
    "# Setup project\n",
    "PROJECT_ID = \"your-project-id\"\n",
    "REGION = \"your-region\"\n",
    "ENDPOINT_NAME = \"air-quality-model\""
   ]
  },
  {
   "cell_type": "code",
   "execution_count": null,
   "metadata": {
    "vscode": {
     "languageId": "plaintext"
    }
   },
   "outputs": [],
   "source": [
    "# Setup monitoring client\n",
    "client = monitoring_v3.MetricServiceClient()\n",
    "project_name = f\"projects/{PROJECT_ID}\""
   ]
  },
  {
   "cell_type": "code",
   "execution_count": null,
   "metadata": {
    "vscode": {
     "languageId": "plaintext"
    }
   },
   "outputs": [],
   "source": [
    "# Function untuk mengambil metrics dari Cloud Monitoring\n",
    "def get_metric_data(metric_type, hours=24):\n",
    "    end_time = datetime.utcnow()\n",
    "    start_time = end_time - timedelta(hours=hours)\n",
    "    \n",
    "    interval = monitoring_v3.TimeInterval({\n",
    "        'start_time': start_time,\n",
    "        'end_time': end_time,\n",
    "    })\n",
    "    \n",
    "    results = client.list_time_series(\n",
    "        request={\n",
    "            \"name\": project_name,\n",
    "            \"filter\": f'metric.type = \"{metric_type}\"',\n",
    "            \"interval\": interval,\n",
    "            \"view\": monitoring_v3.ListTimeSeriesRequest.TimeSeriesView.FULL\n",
    "        }\n",
    "    )\n",
    "    \n",
    "    return results"
   ]
  },
  {
   "cell_type": "code",
   "execution_count": null,
   "metadata": {
    "vscode": {
     "languageId": "plaintext"
    }
   },
   "outputs": [],
   "source": [
    "# Function untuk evaluasi model performance\n",
    "def evaluate_model_performance():\n",
    "    # Query BigQuery untuk membandingkan prediksi dengan actual values\n",
    "    bq_client = bigquery.Client()\n",
    "    \n",
    "    query = \"\"\"\n",
    "    SELECT\n",
    "        timestamp,\n",
    "        device_id,\n",
    "        raw_pm25,\n",
    "        calibrated_pm25,\n",
    "        raw_pm10,\n",
    "        calibrated_pm10,\n",
    "        raw_o3,\n",
    "        calibrated_o3,\n",
    "        raw_co,\n",
    "        calibrated_co,\n",
    "        raw_no2,\n",
    "        calibrated_no2\n",
    "    FROM\n",
    "        `air_quality.measurements`\n",
    "    WHERE\n",
    "        timestamp >= TIMESTAMP_SUB(CURRENT_TIMESTAMP(), INTERVAL 24 HOUR)\n",
    "    ORDER BY\n",
    "        timestamp DESC\n",
    "    \"\"\"\n",
    "    \n",
    "    df = bq_client.query(query).to_dataframe()\n",
    "    return df"
   ]
  },
  {
   "cell_type": "code",
   "execution_count": null,
   "metadata": {
    "vscode": {
     "languageId": "plaintext"
    }
   },
   "outputs": [],
   "source": [
    "# Function untuk visualisasi metrics\n",
    "def plot_metrics(df, parameter):\n",
    "    fig = go.Figure()\n",
    "    \n",
    "    # Plot raw vs calibrated values\n",
    "    fig.add_trace(go.Scatter(\n",
    "        x=df['timestamp'],\n",
    "        y=df[f'raw_{parameter}'],\n",
    "        name='Raw Data',\n",
    "        mode='lines+markers'\n",
    "    ))\n",
    "    \n",
    "    fig.add_trace(go.Scatter(\n",
    "        x=df['timestamp'],\n",
    "        y=df[f'calibrated_{parameter}'],\n",
    "        name='Calibrated Data',\n",
    "        mode='lines+markers'\n",
    "    ))\n",
    "    \n",
    "    fig.update_layout(\n",
    "        title=f'{parameter.upper()} - Raw vs Calibrated Values',\n",
    "        xaxis_title='Timestamp',\n",
    "        yaxis_title='Value',\n",
    "        hovermode='x unified'\n",
    "    )\n",
    "    \n",
    "    return fig"
   ]
  },
  {
   "cell_type": "code",
   "execution_count": null,
   "metadata": {
    "vscode": {
     "languageId": "plaintext"
    }
   },
   "outputs": [],
   "source": [
    "# Function untuk deteksi anomali\n",
    "def detect_anomalies(df, parameter, threshold=3):\n",
    "    \"\"\"Detect anomalies using Z-score method\"\"\"\n",
    "    raw_col = f'raw_{parameter}'\n",
    "    cal_col = f'calibrated_{parameter}'\n",
    "    \n",
    "    # Calculate z-scores\n",
    "    z_scores = np.abs((df[cal_col] - df[cal_col].mean()) / df[cal_col].std())\n",
    "    \n",
    "    # Mark anomalies\n",
    "    anomalies = df[z_scores > threshold].copy()\n",
    "    return anomalies"
   ]
  },
  {
   "cell_type": "code",
   "execution_count": null,
   "metadata": {
    "vscode": {
     "languageId": "plaintext"
    }
   },
   "outputs": [],
   "source": [
    "# Function untuk generate monitoring report\n",
    "def generate_monitoring_report():\n",
    "    # Get performance data\n",
    "    df = evaluate_model_performance()\n",
    "    \n",
    "    print(\"Model Performance Report\")\n",
    "    print(\"-\" * 50)\n",
    "    \n",
    "    # Analyze each parameter\n",
    "    parameters = ['pm25', 'pm10', 'o3', 'co', 'no2']\n",
    "    \n",
    "    for param in parameters:\n",
    "        print(f\"\\nAnalysis for {param.upper()}:\")\n",
    "        \n",
    "        # Calculate basic statistics\n",
    "        raw_col = f'raw_{param}'\n",
    "        cal_col = f'calibrated_{param}'\n",
    "        \n",
    "        raw_mean = df[raw_col].mean()\n",
    "        cal_mean = df[cal_col].mean()\n",
    "        \n",
    "        print(f\"Average Raw Value: {raw_mean:.2f}\")\n",
    "        print(f\"Average Calibrated Value: {cal_mean:.2f}\")\n",
    "        \n",
    "        # Detect anomalies\n",
    "        anomalies = detect_anomalies(df, param)\n",
    "        print(f\"Number of anomalies detected: {len(anomalies)}\")\n",
    "        \n",
    "        # Create visualization\n",
    "        fig = plot_metrics(df, param)\n",
    "        fig.show()"
   ]
  },
  {
   "cell_type": "code",
   "execution_count": null,
   "metadata": {
    "vscode": {
     "languageId": "plaintext"
    }
   },
   "outputs": [],
   "source": [
    "# Setup alert policies\n",
    "def setup_alert_policies():\n",
    "    from google.cloud.monitoring_v3 import AlertPolicy\n",
    "    from google.cloud.monitoring_v3 import AlertPolicyService\n",
    "    \n",
    "    alert_client = AlertPolicyService()\n",
    "    \n",
    "    # Create alert policy for model performance\n",
    "    alert_policy = AlertPolicy({\n",
    "        'display_name': 'Air Quality Model Performance Alert',\n",
    "        'conditions': [{\n",
    "            'display_name': 'High Error Rate',\n",
    "            'condition_threshold': {\n",
    "                'filter': 'metric.type=\"custom.googleapis.com/air_quality/error_rate\"',\n",
    "                'comparison': AlertPolicy.ComparisonType.COMPARISON_GT,\n",
    "                'threshold_value': 0.2,\n",
    "                'duration': {'seconds': 300},  # 5 minutes\n",
    "            }\n",
    "        }],\n",
    "        'notification_channels': [\n",
    "            f\"projects/{PROJECT_ID}/notificationChannels/{NOTIFICATION_CHANNEL_ID}\"\n",
    "        ],\n",
    "        'enabled': True\n",
    "    })\n",
    "    \n",
    "    created_policy = alert_client.create_alert_policy(\n",
    "        request={\n",
    "            \"name\": project_name,\n",
    "            \"alert_policy\": alert_policy\n",
    "        }\n",
    "    )\n",
    "    \n",
    "    return created_policy"
   ]
  },
  {
   "cell_type": "code",
   "execution_count": null,
   "metadata": {
    "vscode": {
     "languageId": "plaintext"
    }
   },
   "outputs": [],
   "source": [
    "# Main monitoring dashboard\n",
    "def main():\n",
    "    print(\"Starting Air Quality Model Monitoring\")\n",
    "    print(\"=\" * 50)\n",
    "    \n",
    "    # Generate performance report\n",
    "    generate_monitoring_report()\n",
    "    \n",
    "    # Setup alerts if they don't exist\n",
    "    try:\n",
    "        alert_policy = setup_alert_policies()\n",
    "        print(\"\\nAlert policies setup successfully\")\n",
    "    except Exception as e:\n",
    "        print(f\"\\nError setting up alert policies: {str(e)}\")\n",
    "    \n",
    "    print(\"\\nMonitoring dashboard initialized successfully\")"
   ]
  },
  {
   "cell_type": "code",
   "execution_count": null,
   "metadata": {
    "vscode": {
     "languageId": "plaintext"
    }
   },
   "outputs": [],
   "source": [
    "# Run monitoring dashboard\n",
    "if __name__ == \"__main__\":\n",
    "    main()"
   ]
  }
 ],
 "metadata": {
  "language_info": {
   "name": "python"
  }
 },
 "nbformat": 4,
 "nbformat_minor": 2
}
