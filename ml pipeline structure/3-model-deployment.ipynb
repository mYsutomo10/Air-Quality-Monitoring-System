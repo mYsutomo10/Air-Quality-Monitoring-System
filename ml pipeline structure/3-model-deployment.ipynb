{
 "cells": [
  {
   "cell_type": "code",
   "execution_count": null,
   "metadata": {
    "vscode": {
     "languageId": "plaintext"
    }
   },
   "outputs": [],
   "source": [
    "# Setup dan Import\n",
    "!pip install -q google-cloud-aiplatform\n",
    "!pip install -q google-cloud-storage\n",
    "!pip install -q scikit-learn pandas numpy joblib\n",
    "\n",
    "import os\n",
    "import json\n",
    "from google.cloud import storage\n",
    "from google.cloud import aiplatform\n",
    "from google.cloud.aiplatform import Model\n",
    "import joblib"
   ]
  },
  {
   "cell_type": "code",
   "execution_count": null,
   "metadata": {
    "vscode": {
     "languageId": "plaintext"
    }
   },
   "outputs": [],
   "source": [
    "# Setup project\n",
    "PROJECT_ID = \"your-project-id\"\n",
    "BUCKET = \"your-bucket\"\n",
    "REGION = \"your-region\"\n",
    "ENDPOINT_NAME = \"air-quality-model\""
   ]
  },
  {
   "cell_type": "code",
   "execution_count": null,
   "metadata": {
    "vscode": {
     "languageId": "plaintext"
    }
   },
   "outputs": [],
   "source": [
    "# Initialize Vertex AI\n",
    "aiplatform.init(project=PROJECT_ID, location=REGION)"
   ]
  },
  {
   "cell_type": "code",
   "execution_count": null,
   "metadata": {
    "vscode": {
     "languageId": "plaintext"
    }
   },
   "outputs": [],
   "source": [
    "# Function untuk membuat model custom\n",
    "def create_custom_model():\n",
    "    \"\"\"Membuat custom model untuk deployment\"\"\"\n",
    "    \n",
    "    def predict_fn(instances):\n",
    "        \"\"\"Function prediksi yang akan digunakan di endpoint\"\"\"\n",
    "        outputs = []\n",
    "        \n",
    "        for instance in instances:\n",
    "            # Preprocess input\n",
    "            features = {\n",
    "                'pm25_sensor': instance['pm25'],\n",
    "                'pm10_sensor': instance['pm10'],\n",
    "                'o3_sensor': instance['o3'],\n",
    "                'co_sensor': instance['co'],\n",
    "                'no2_sensor': instance['no2'],\n",
    "                'temperature': instance['temperature'],\n",
    "                'humidity': instance['humidity']\n",
    "            }\n",
    "            \n",
    "            # Predict untuk setiap parameter\n",
    "            calibrated = {}\n",
    "            for param in ['pm25', 'pm10', 'o3', 'co', 'no2']:\n",
    "                model = models[param]\n",
    "                calibrated[f'{param}_calibrated'] = float(model.predict([list(features.values())])[0])\n",
    "            \n",
    "            outputs.append(calibrated)\n",
    "        \n",
    "        return outputs\n",
    "    \n",
    "    return predict_fn"
   ]
  },
  {
   "cell_type": "code",
   "execution_count": null,
   "metadata": {
    "vscode": {
     "languageId": "plaintext"
    }
   },
   "outputs": [],
   "source": [
    "# Load models dari Cloud Storage\n",
    "def load_models_from_gcs():\n",
    "    storage_client = storage.Client()\n",
    "    bucket = storage_client.bucket(BUCKET)\n",
    "    models = {}\n",
    "    \n",
    "    for param in ['pm25', 'pm10', 'o3', 'co', 'no2']:\n",
    "        blob = bucket.blob(f'models/{param}_model.joblib')\n",
    "        blob.download_to_filename(f'/tmp/{param}_model.joblib')\n",
    "        models[param] = joblib.load(f'/tmp/{param}_model.joblib')\n",
    "    \n",
    "    return models"
   ]
  },
  {
   "cell_type": "code",
   "execution_count": null,
   "metadata": {
    "vscode": {
     "languageId": "plaintext"
    }
   },
   "outputs": [],
   "source": [
    "# Load models\n",
    "models = load_models_from_gcs()"
   ]
  },
  {
   "cell_type": "code",
   "execution_count": null,
   "metadata": {
    "vscode": {
     "languageId": "plaintext"
    }
   },
   "outputs": [],
   "source": [
    "# Create dan deploy model ke Vertex AI\n",
    "def deploy_model():\n",
    "    # Create model resource\n",
    "    model = aiplatform.Model.upload(\n",
    "        display_name=ENDPOINT_NAME,\n",
    "        artifact_uri=f\"gs://{BUCKET}/models/\",\n",
    "        serving_container_image_uri=\"gcr.io/cloud-aiplatform/prediction/sklearn-cpu.1-0:latest\"\n",
    "    )\n",
    "    \n",
    "    # Deploy model ke endpoint\n",
    "    endpoint = model.deploy(\n",
    "        machine_type=\"n1-standard-4\",\n",
    "        min_replica_count=1,\n",
    "        max_replica_count=3\n",
    "    )\n",
    "    \n",
    "    return endpoint"
   ]
  },
  {
   "cell_type": "code",
   "execution_count": null,
   "metadata": {
    "vscode": {
     "languageId": "plaintext"
    }
   },
   "outputs": [],
   "source": [
    "# Deploy model\n",
    "endpoint = deploy_model()"
   ]
  },
  {
   "cell_type": "code",
   "execution_count": null,
   "metadata": {
    "vscode": {
     "languageId": "plaintext"
    }
   },
   "outputs": [],
   "source": [
    "# Test endpoint\n",
    "def test_endpoint(endpoint):\n",
    "    # Test data\n",
    "    test_instance = {\n",
    "        \"pm25\": 25.0,\n",
    "        \"pm10\": 45.0,\n",
    "        \"o3\": 0.035,\n",
    "        \"co\": 1.2,\n",
    "        \"no2\": 0.045,\n",
    "        \"temperature\": 25.0,\n",
    "        \"humidity\": 65.0\n",
    "    }\n",
    "    \n",
    "    # Predict\n",
    "    response = endpoint.predict([test_instance])\n",
    "    \n",
    "    print(\"Test prediction:\")\n",
    "    print(json.dumps(response, indent=2))"
   ]
  },
  {
   "cell_type": "code",
   "execution_count": null,
   "metadata": {
    "vscode": {
     "languageId": "plaintext"
    }
   },
   "outputs": [],
   "source": [
    "# Test deployed model\n",
    "test_endpoint(endpoint)"
   ]
  },
  {
   "cell_type": "code",
   "execution_count": null,
   "metadata": {
    "vscode": {
     "languageId": "plaintext"
    }
   },
   "outputs": [],
   "source": [
    "# Setup monitoring\n",
    "def setup_monitoring(endpoint):\n",
    "    # Define metrics untuk monitoring\n",
    "    monitoring_job = aiplatform.ModelDeploymentMonitoringJob.create(\n",
    "        display_name=f\"{ENDPOINT_NAME}-monitoring\",\n",
    "        endpoint=endpoint.resource_name,\n",
    "        monitor_interval=\"hour\",\n",
    "        feature_monitoring_config={\n",
    "            \"target_field\": \"all\",\n",
    "            \"feature_fields\": [\"pm25\", \"pm10\", \"o3\", \"co\", \"no2\"]\n",
    "        }\n",
    "    )\n",
    "    \n",
    "    return monitoring_job"
   ]
  },
  {
   "cell_type": "code",
   "execution_count": null,
   "metadata": {
    "vscode": {
     "languageId": "plaintext"
    }
   },
   "outputs": [],
   "source": [
    "# Setup monitoring untuk endpoint\n",
    "monitoring_job = setup_monitoring(endpoint)"
   ]
  },
  {
   "cell_type": "code",
   "execution_count": null,
   "metadata": {
    "vscode": {
     "languageId": "plaintext"
    }
   },
   "outputs": [],
   "source": [
    "print(f\"\"\"\n",
    "Model Deployment Summary:\n",
    "-----------------------\n",
    "Endpoint Name: {ENDPOINT_NAME}\n",
    "Endpoint URL: {endpoint.resource_name}\n",
    "Model Version: {endpoint.model.version}\n",
    "Monitoring Job: {monitoring_job.resource_name}\n",
    "\"\"\")"
   ]
  }
 ],
 "metadata": {
  "language_info": {
   "name": "python"
  }
 },
 "nbformat": 4,
 "nbformat_minor": 2
}
